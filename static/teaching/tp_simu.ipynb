{
 "cells": [
  {
   "cell_type": "markdown",
   "id": "886b361c",
   "metadata": {},
   "source": [
    "# TP: Simulation de variables aléatoires\n",
    "Auteur: Noé Blassel"
   ]
  },
  {
   "cell_type": "code",
   "execution_count": null,
   "id": "c2cf38c3",
   "metadata": {},
   "outputs": [],
   "source": [
    "import numpy as np\n",
    "import matplotlib.pyplot as plt\n",
    "from scipy.special import gamma"
   ]
  },
  {
   "cell_type": "markdown",
   "id": "79e0ddf2",
   "metadata": {},
   "source": [
    "## Exercice 4.3.1\n",
    "\n",
    "Méthode de simulation rapide d'une variable géométrique. Avec `numpy`:"
   ]
  },
  {
   "cell_type": "code",
   "execution_count": null,
   "id": "3115f024",
   "metadata": {},
   "outputs": [],
   "source": [
    "N = 10000000  # nombre de tirages\n",
    "p = 0.1\n",
    "G1 = np.random.geometric(p=p, size=N)  # methode native"
   ]
  },
  {
   "cell_type": "markdown",
   "id": "8b40f3c1",
   "metadata": {},
   "source": [
    "Méthode de l'exercice:"
   ]
  },
  {
   "cell_type": "code",
   "execution_count": null,
   "id": "f67c0673",
   "metadata": {},
   "outputs": [],
   "source": [
    "lam = -np.log(1-p) # Le λ correspondant à p\n",
    "U = np.random.uniform(size=N) # on tire des variables uniforme U[0,1] i.i.d\n",
    "G2 = 1 + np.floor(-np.log(U) / lam) # G2 est composée de variables géométriques i.i.d"
   ]
  },
  {
   "cell_type": "markdown",
   "id": "bf82e6a1",
   "metadata": {},
   "source": [
    "On compare les histogrammes donnés par les deux méthodes:"
   ]
  },
  {
   "cell_type": "code",
   "execution_count": null,
   "id": "bce05519",
   "metadata": {},
   "outputs": [],
   "source": [
    "max_k = 100\n",
    "N_range = np.linspace(1,max_k,max_k).reshape(1,max_k)\n",
    "\n",
    "P1 = (G1.reshape(N,1) == N_range).mean(axis=0) # loi empirique de G1\n",
    "P2 = (G2.reshape(N,1) == N_range).mean(axis=0) # loi empirique de G2\n",
    "\n",
    "fig = plt.figure()\n",
    "plt.scatter(N_range,P1,marker=\"x\",color=\"r\",alpha=0.5,label=\"numpy\")\n",
    "plt.scatter(N_range,P2,marker=\"x\",color=\"b\",alpha=0.5,label=\"maison\")\n",
    "plt.legend(loc=\"best\")\n",
    "plt.show()"
   ]
  },
  {
   "cell_type": "markdown",
   "id": "4870ab6c",
   "metadata": {},
   "source": [
    "## Exercice 4.3.2\n",
    "On veut simuler une variable de Poisson $\\mathcal P(\\lambda)$. La librairie `numpy` offre une fonction pour cela."
   ]
  },
  {
   "cell_type": "code",
   "execution_count": null,
   "id": "c370efc7",
   "metadata": {},
   "outputs": [],
   "source": [
    "N = 500000  # nombre de tirages\n",
    "lam = 3.0\n",
    "P1 = np.random.poisson(lam, size=N)  # methode numpy"
   ]
  },
  {
   "cell_type": "markdown",
   "id": "0629bfd9",
   "metadata": {},
   "source": [
    "### Méthode 1: lien avec la loi exponentielle\n",
    "\n",
    "Il s'agit de la méthode de l'exercice 4.3.2"
   ]
  },
  {
   "cell_type": "code",
   "execution_count": null,
   "id": "591d7156",
   "metadata": {},
   "outputs": [],
   "source": [
    "def poisson_maison(lam):\n",
    "    u = -np.log(np.random.rand()) #variable exponentielle E(1)\n",
    "    r = lam # exp(-λ)\n",
    "    i = 0\n",
    "    while u < r: #tant que le produit ne dépasse pas r, on itère\n",
    "        u -= np.log(np.random.rand())\n",
    "        i += 1\n",
    "    return i # on renvoie le premier indice satisfaisant la condition"
   ]
  },
  {
   "cell_type": "code",
   "execution_count": null,
   "id": "04dae4b2",
   "metadata": {},
   "outputs": [],
   "source": [
    "P2 = np.array([poisson_maison(lam) for i in range(N)]) # nos variables de Poisson i.i.d"
   ]
  },
  {
   "cell_type": "markdown",
   "id": "71043b30",
   "metadata": {},
   "source": [
    "Petite comparaison d'histogrammes:"
   ]
  },
  {
   "cell_type": "code",
   "execution_count": null,
   "id": "bd568976",
   "metadata": {},
   "outputs": [],
   "source": [
    "fig = plt.figure()\n",
    "plt.hist(P1, density=True, label=\"numpy\",bins=50, alpha=1/3, color=\"r\")\n",
    "plt.hist(P2, density=True, label=\"exercice\",bins=50, alpha=1/3, color=\"b\")\n",
    "# plt.hist(Xm,density=True,label=\"approx\",bins=50,alpha=1/3,color=\"y\")\n",
    "plt.legend(loc=\"best\")\n",
    "plt.show()\n"
   ]
  },
  {
   "cell_type": "markdown",
   "id": "aecace14",
   "metadata": {},
   "source": [
    "## Exercice 4.3.3\n",
    "\n",
    "On compare différentes méthodes pour simuler des Gaussiennes standard indépendantes. Avec `numpy`, on utilise la fonction suivante."
   ]
  },
  {
   "cell_type": "code",
   "execution_count": null,
   "id": "e3480e3f",
   "metadata": {},
   "outputs": [],
   "source": [
    "N = 100000\n",
    "mu, sigma = 0.0, 1.0\n",
    "\n",
    "G1 = np.random.normal(loc=mu, scale=sigma, size=N)  # méthode numpy de base"
   ]
  },
  {
   "cell_type": "markdown",
   "id": "9a711863",
   "metadata": {},
   "source": [
    "### Méthode 1: Box-Muller\n",
    "\n",
    "Elle consiste à exploiter l'égalité en loi\n",
    "$$(\\sqrt{R}\\cos \\Theta ,\\sqrt{R}\\sin \\Theta) \\overset{\\mathcal{L}}{=} G\\sim\\mathcal{N}\\left(0,I_2\\right),\\$$\n",
    "où $R\\sim \\mathcal{E}(1/2)$ est une variable exponentielle et $\\Theta \\sim \\mathcal{U}[0,2\\pi]$ une variable uniforme.\n"
   ]
  },
  {
   "cell_type": "code",
   "execution_count": null,
   "id": "835beeda",
   "metadata": {},
   "outputs": [],
   "source": [
    "R = np.random.exponential(scale=2.0, size=N//2)  # scale= 1/lambda\n",
    "T = 2*np.pi*np.random.uniform(size=N//2)\n",
    "G2 = np.concatenate((np.sqrt(R)*np.cos(T), np.sqrt(R)*np.sin(T)))"
   ]
  },
  {
   "cell_type": "markdown",
   "id": "812695f2",
   "metadata": {},
   "source": [
    "### Méthode 2: Box-Muller par méthode de rejet\n",
    "\n",
    "On utilise l'égalité en loi prouvée dans l'exercice, à savoir\n",
    "$$\\left(X\\sqrt{\\frac{-2\\ln(X^2+Y^2)}{X^2+Y^2}},Y\\sqrt{\\frac{-2\\ln(X^2+Y^2)}{X^2+Y^2}}\\right)\\overset{\\mathcal{L}}{=} G\\sim\\mathcal{N}\\left(0,I_2\\right),$$\n",
    "\n",
    "où le couple $(X,Y)$ est distribué uniformément sur le disque $D(0,1)$. On tire selon la loi de $(X,Y)$ par une méthode de rejet par rapport à la densité uniforme sur $[-1,1]^2$."
   ]
  },
  {
   "cell_type": "code",
   "execution_count": null,
   "id": "6111eed4",
   "metadata": {},
   "outputs": [],
   "source": [
    "X = np.random.uniform(low=-1.0, high=1.0, size=N//2)\n",
    "Y = np.random.uniform(low=-1.0, high=1.0, size=N//2)\n",
    "\n",
    "# rejet\n",
    "X_tmp = X[X**2+Y**2 < 1]\n",
    "Y = Y[X**2+Y**2 < 1]\n",
    "X = X_tmp\n",
    "\n",
    "print(f\"k empirique = {(N//2)/np.size(X)}, k theorique = {4/np.pi}\")\n",
    "\n",
    "ax=plt.axes()\n",
    "ax.scatter(X[:500],Y[:500])\n",
    "ax.set_aspect(\"equal\")\n",
    "plt.show()"
   ]
  },
  {
   "cell_type": "markdown",
   "id": "76f7dfd5",
   "metadata": {},
   "source": [
    "On peut ensuite tirer selon la méthode proposée"
   ]
  },
  {
   "cell_type": "code",
   "execution_count": null,
   "id": "8384aa7a",
   "metadata": {},
   "outputs": [],
   "source": [
    "R = X**2 + Y**2\n",
    "G3 = np.concatenate((X*np.sqrt(-2*np.log(R)/R), Y*np.sqrt(-2*np.log(R)/R)))\n"
   ]
  },
  {
   "cell_type": "code",
   "execution_count": null,
   "id": "89fd38e1",
   "metadata": {},
   "outputs": [],
   "source": [
    "fig = plt.figure()\n",
    "plt.hist(G1, density=True, label=\"numpy\", alpha=1/3, color=\"y\", bins=100)\n",
    "plt.hist(G2, density=True, label=\"Box-Muller trig\",\n",
    "         alpha=1/3, color=\"r\", bins=100)\n",
    "plt.hist(G3, density=True, label=\"Box-Muller no trig\",\n",
    "         alpha=1/3, color=\"b\", bins=100)\n",
    "\n",
    "plt.legend(loc=\"best\")\n",
    "\n",
    "plt.show()"
   ]
  },
  {
   "cell_type": "markdown",
   "id": "bc568c2e",
   "metadata": {},
   "source": [
    "## Exercice 4.3.4\n",
    "\n",
    "On a montré que si\n",
    "$$ D = \\left\\{(u,v)\\in\\mathbb R^2 \\middle| u>0,v>0,u^{\\frac1a}+v^{\\frac1b}<1\\right\\},$$\n",
    "et $(U,V)$ est un couple distribué uniformément sur $D$, alors \n",
    "\n",
    "$$X = \\frac{U^{\\frac1a}}{U^{\\frac1a}+V^{\\frac1b}} \\sim \\beta(a,b).$$\n",
    "\n",
    "Pour simuler $(U,V)$, on utilise une méthode de rejet en exploitant le fait que $D \\subset [0,1]^2$."
   ]
  },
  {
   "cell_type": "code",
   "execution_count": null,
   "id": "c46445d6",
   "metadata": {},
   "outputs": [],
   "source": [
    "a = 1.2\n",
    "b = 1.5\n",
    "\n",
    "N = 1000000\n",
    "\n",
    "Xref = np.random.beta(a,b,N)\n",
    "\n",
    "U = np.random.uniform(0,1,N)\n",
    "V = np.random.uniform(0,1,N)\n",
    "\n",
    "I = (U**(1/a) + V**(1/b)) < 1 # indices à retenir\n",
    "\n",
    "print(f\"k empirique: {N/I.sum()}.\") # coût par échantillon\n",
    "\n",
    "U = U[I] # rejet\n",
    "V = V[I]\n",
    "\n",
    "X = U**(1/a) / (U**(1/a) + V**(1/b))\n",
    "\n",
    "fig = plt.figure()\n",
    "\n",
    "plt.hist(Xref,density=True,label=\"numpy\",alpha=0.5,color=\"r\",bins=500)\n",
    "plt.hist(X,density=True,label=\"maison\",alpha=0.5,color=\"b\",bins=500)\n",
    "\n",
    "plt.legend(loc=\"best\")\n",
    "\n",
    "plt.show()"
   ]
  },
  {
   "cell_type": "markdown",
   "id": "949beb79",
   "metadata": {},
   "source": [
    "## Exercice 4.3.6\n",
    "\n",
    "On cherche à implémenter une méthode pour simuler une loi $\\Gamma(a,\\theta)$.\n",
    "On écrit $ a = \\alpha + \\lfloor a\\rfloor$ avec $0\\leq \\alpha <1$. Cette écriture est unique.\n",
    "Vérifions d'abord que \n",
    "$$ \\frac1\\theta\\left(Y - \\ln\\left(\\prod_{k=1}^{\\lfloor a\\rfloor}U_k\\right)\\right) \\overset{\\mathcal L}{=} G \\sim \\Gamma(a,\\theta),$$\n",
    "où les $U_i$ sont i.i.d uniformes sur $[0,1]$."
   ]
  },
  {
   "cell_type": "code",
   "execution_count": null,
   "id": "2de24b0f",
   "metadata": {},
   "outputs": [],
   "source": [
    "a = np.pi  # 3.14..\n",
    "m = 3\n",
    "alpha = a-3\n",
    "theta = 0.5\n",
    "\n",
    "Galpha = gamma(alpha)\n",
    "\n",
    "N = 100000  # nombre de tirages\n",
    "G1 = np.random.gamma(shape=a, scale=1/theta, size=N) # loi gamma avec numpy"
   ]
  },
  {
   "cell_type": "code",
   "execution_count": null,
   "id": "8f74c351",
   "metadata": {},
   "outputs": [],
   "source": [
    "G2 = np.random.gamma(shape=alpha, size=N)\n",
    "U=np.random.uniform(size=(N,m))\n",
    "G2-=np.sum(np.log(U),axis=1) # log du produit= somme des log\n",
    "G2 /= theta"
   ]
  },
  {
   "cell_type": "code",
   "execution_count": null,
   "id": "1dbe5254",
   "metadata": {},
   "outputs": [],
   "source": [
    "fig = plt.figure()\n",
    "plt.hist(G1, density=True, bins=100, color=\"r\", alpha=0.5, label=\"numpy\")\n",
    "plt.hist(G2, density=True, bins=100, color=\"b\", alpha=0.5, label=\"maison\")\n",
    "\n",
    "plt.legend(loc=\"best\")\n",
    "plt.show()"
   ]
  },
  {
   "cell_type": "markdown",
   "id": "80096c3f",
   "metadata": {},
   "source": [
    "Le seul problème est donc de simuler selon la loi $\\Gamma(\\alpha,1)$ pour $0<\\alpha<1$.\n",
    "\n",
    "### Méthode 1: rejet par rapport à une densité bien choisie\n",
    "\n",
    "On va implémenter la méthode de rejet de la question 1.b, avec \n",
    "$$q(x)= \\begin{cases} \\frac{\\alpha e}{\\alpha+e}x^{\\alpha-1} && 0< x \\leq 1,\\\\\n",
    "\\frac{\\alpha e}{\\alpha+e} e^{-x} && x>1\\end{cases}$$"
   ]
  },
  {
   "cell_type": "code",
   "execution_count": null,
   "id": "bd921b73",
   "metadata": {},
   "outputs": [],
   "source": [
    "x = np.arange(0, 5, 0.01)\n",
    "px = np.exp(-x)*(x**(alpha-1))/Galpha\n",
    "qx = np.zeros_like(x)\n",
    "qx[x < 1] = x[x < 1]**(alpha-1)\n",
    "qx[x >= 1] = np.exp(-x[x >= 1])\n",
    "\n",
    "qx *= (alpha*np.e)/(alpha+np.e)\n",
    "fig = plt.figure()\n",
    "plt.plot(x, px, label=\"p\")\n",
    "\n",
    "\n",
    "\n",
    "plt.plot(x, qx, label=\"q\")\n",
    "plt.legend(loc=\"best\")\n",
    "plt.ylim(0, 2)\n",
    "plt.show()"
   ]
  },
  {
   "cell_type": "markdown",
   "id": "2ae45be9",
   "metadata": {},
   "source": [
    "On implémente à présent la méthode de rejet. Il faut d'abord échantilloner selon la densité $q$."
   ]
  },
  {
   "cell_type": "code",
   "execution_count": null,
   "id": "1663cc75",
   "metadata": {},
   "outputs": [],
   "source": [
    "U = np.random.uniform(size=N)\n",
    "Y = np.zeros_like(U)\n",
    "c = (np.e)/(np.e + alpha)\n",
    "Y[U <= c] = ((alpha+np.e)*U[U <= c]/np.e)**(1/alpha) # inversion de la fonction de répartition\n",
    "Y[U > c] = -np.log(((alpha+np.e)*U[U > c]/np.e - 1)/alpha)"
   ]
  },
  {
   "cell_type": "code",
   "execution_count": null,
   "id": "9074b735",
   "metadata": {},
   "outputs": [],
   "source": [
    "fig = plt.plot()\n",
    "plt.hist(Y, density=True, label=\"histo\", bins=500)\n",
    "plt.plot(x, qx, label=\"q\")\n",
    "plt.legend(loc=\"best\")\n",
    "plt.ylim(0, 2)\n",
    "plt.xlim(0,4)\n",
    "plt.show()"
   ]
  },
  {
   "cell_type": "markdown",
   "id": "9da264c5",
   "metadata": {},
   "source": [
    "Pour implémenter la méthode de rejet, on se donne une famille *i.i.d* $(V_i)_{i\\geq 1}$ de variables uniformes sur $[0,1]$ et une autre $(Y_i)_{i\\geq 1}$ de densité $q$. Le théorème sur la méthode de rejet implique que la famille (aléatoire)\n",
    "$$\\left\\{Y_i(\\omega): kq(Y_i)V_i(\\omega)\\leq p(Y_i)(\\omega)\\right\\}$$\n",
    "est composée de variables *i.i.d* de densité $p$.\n",
    "\n",
    "Pour selectionner les indices vérifiant la condition de non-rejet, on peut utiliser la syntaxe d'indexation booléenne offerte par `numpy`."
   ]
  },
  {
   "cell_type": "code",
   "execution_count": null,
   "id": "18b046a7",
   "metadata": {},
   "outputs": [],
   "source": [
    "V = np.random.uniform(size=N)\n",
    "# calcul des q(Y_i)\n",
    "q_Y = np.zeros_like(Y)\n",
    "q_Y[Y <= 1] = Y[Y <= 1]**(alpha-1)\n",
    "q_Y[Y > 1] = np.exp(-Y[Y>1])\n",
    "\n",
    "q_Y *= (alpha*np.e)/(alpha+np.e)\n",
    "#calcul des p(Y_i)\n",
    "p_Y = Y**(alpha-1)*np.exp(-Y)/Galpha\n",
    "\n",
    "k = (alpha+np.e)/(alpha*np.e*Galpha) # notre constante k\n",
    "G3 = Y[k*q_Y*V <= p_Y] # étape de rejet\n",
    "\n",
    "print(\"k theorique = \", k,\" k empirique = \",N/G3.size)"
   ]
  },
  {
   "cell_type": "code",
   "execution_count": null,
   "id": "edbb958a",
   "metadata": {},
   "outputs": [],
   "source": [
    "G4=np.random.gamma(shape=alpha,scale=1.0,size=N)\n",
    "fig = plt.figure()\n",
    "plt.hist(G4, density=True, bins=200, color=\"r\", alpha=0.5, label=\"numpy\")\n",
    "plt.hist(G3, density=True, bins=200, color=\"b\", alpha=0.5, label=\"maison\")\n",
    "plt.ylim(0,2)\n",
    "plt.xlim(0,4)\n",
    "plt.legend(loc=\"best\")\n",
    "plt.show()"
   ]
  },
  {
   "cell_type": "markdown",
   "id": "a5b7519b",
   "metadata": {},
   "source": [
    "### Méthode 2: égalité en loi + rejet\n",
    "\n",
    "On utilise l'égalité en loi \n",
    "$$\\frac{Y}{X} \\overset{\\mathcal L}{=} G\\sim \\Gamma(a,1),$$\n",
    "où le couple $(X,Y)$ est distribué uniformément sur \n",
    "$$ D_a = \\left\\{(x,y)\\in \\mathbb{R}_{>0}^2 : 0< x < \\sqrt{f\\left(\\frac{y}{x}\\right)}\\right\\},$$\n",
    "où\n",
    "$$f(z)=z^{a-1}e^{-x}1_{z>0}.$$\n",
    "\n",
    "On vérifie d'abord la borne de la question 2.\n"
   ]
  },
  {
   "cell_type": "code",
   "execution_count": null,
   "id": "ddfe7470",
   "metadata": {},
   "outputs": [],
   "source": [
    "fx = x**(a-1)*np.exp(-x)\n",
    "fig = plt.figure()\n",
    "plt.plot(x,fx,label=\"f(z)\",color=\"r\")\n",
    "plt.plot(x,x**2*fx,label=\"z²f(z)\",color=\"b\")\n",
    "\n",
    "plt.axhline(((a-1)/np.e)**(a-1),linestyle=\"dashed\",color=\"r\")\n",
    "plt.axhline(((a+1)/np.e)**(a+1),linestyle=\"dashed\",color=\"b\")\n",
    "plt.legend(loc=\"best\")\n",
    "plt.show()"
   ]
  },
  {
   "cell_type": "markdown",
   "id": "f1614a53",
   "metadata": {},
   "source": [
    "On peut alors simuler $(X,Y)$ uniforme sur $D_a$ par la méthode de rejet, par rapport à la densité uniforme sur \n",
    "$$]0,x_a[\\times ]0,y_a[,$$\n",
    "avec $x_a= \\left(\\frac{a-1}{e}\\right)^{\\frac{a-1}2}$, et $y_a=\\left(\\frac{a+1}{e}\\right)^{\\frac{a+1}2}$."
   ]
  },
  {
   "cell_type": "code",
   "execution_count": null,
   "id": "16debf7c",
   "metadata": {},
   "outputs": [],
   "source": [
    "x_a = ((a-1)/np.e)**((a-1)/2)\n",
    "y_a = ((a+1)/np.e)**((a+1)/2)\n",
    "\n",
    "Ux = x_a * np.random.uniform(size=N)\n",
    "Uy = y_a * np.random.uniform(size=N)\n",
    "\n",
    "sqrt_f_ratio = np.sqrt((Uy/Ux)**(a-1)*np.exp(-Uy/Ux)) #\n",
    "X = Ux[Ux < sqrt_f_ratio]\n",
    "Y = Uy[Ux < sqrt_f_ratio]\n",
    "\n",
    "k = x_a * y_a /(gamma(a)/2)\n",
    "print(\"k theorique = \",k,\" k empirique = \",N/X.size)"
   ]
  },
  {
   "cell_type": "code",
   "execution_count": null,
   "id": "dc464c4d",
   "metadata": {},
   "outputs": [],
   "source": [
    "G1=np.random.gamma(shape=a,scale=1/theta,size=N)\n",
    "G2=(Y/X)/theta\n",
    "\n",
    "fig = plt.figure()\n",
    "plt.hist(G1, density=True, bins=200, color=\"r\", alpha=0.5, label=\"numpy\")\n",
    "plt.hist(G2, density=True, bins=200, color=\"b\", alpha=0.5, label=\"maison\")\n",
    "plt.ylim(0,0.25)\n",
    "plt.xlim(0,20)\n",
    "plt.legend(loc=\"best\")\n",
    "plt.show()\n"
   ]
  },
  {
   "cell_type": "markdown",
   "id": "c074b08c",
   "metadata": {},
   "source": [
    "## Illustration de la loi des grands nombres et du théorème central limite\n",
    "\n",
    "Dans cette partie, on se propose de visualiser la loi des grands nombres et le théorème central limite.\n",
    "\n",
    "On va prendre $(X_i)_{i\\geq 1}$ une suite <i>i.i.d</i> de variables exponentielles de parametre $\\lambda = 1/2$.\n",
    "\n",
    "### 1) Implémenter ci-dessous une méthode pour simuler les $X_i$:"
   ]
  },
  {
   "cell_type": "code",
   "execution_count": null,
   "id": "f3ace883",
   "metadata": {},
   "outputs": [],
   "source": [
    "lam = 1/2\n",
    "N = 100000\n",
    "U = np.random.uniform(0,1,N)\n",
    "X =  -(1/lam)*np.log(U)# remplir ici, (on pourra utiliser np.log)\n",
    "\n",
    "fig = plt.figure()\n",
    "plt.hist(np.random.exponential(1/lam,N),density=True,label=\"numpy\",color=\"b\",alpha=0.5,bins=100)\n",
    "plt.hist(X,density=True,label=\"maison\",color=\"r\",alpha=0.5,bins=100)\n",
    "plt.legend(loc=\"best\")\n",
    "plt.show()"
   ]
  },
  {
   "cell_type": "markdown",
   "id": "93b29499",
   "metadata": {},
   "source": [
    "### 2) Regarder la convergence des moyennes empiriques. On pourra utiliser la fonction `np.cumsum`"
   ]
  },
  {
   "cell_type": "code",
   "execution_count": null,
   "id": "49f68190",
   "metadata": {},
   "outputs": [],
   "source": [
    "N_range = np.linspace(1,N,N) # [1.0,2.0,..., N]\n",
    "M = # implémenter ici le vecteurs des moyennes empiriques successives (on pourra utiliser np.cumsum)\n",
    "\n",
    "fig = plt.figure()\n",
    "plt.plot(N_range,M,label=\"empirical mean\")\n",
    "plt.plot(N_range,np.ones(N)/lam,label=\"mean\")\n",
    "plt.legend(loc=\"best\")\n",
    "plt.show()"
   ]
  },
  {
   "cell_type": "markdown",
   "id": "0d1579aa",
   "metadata": {},
   "source": [
    "### 3) Refaire avec des variables de Cauchy \n",
    "On peut utiliser un échantillonage maison par inversion de la fonction de répartition, ou bien la fonction `np.random.cauchy`. Qu'observe-t-on pour la convergence des moyennes empiriques?"
   ]
  },
  {
   "cell_type": "code",
   "execution_count": null,
   "id": "54caf78c",
   "metadata": {},
   "outputs": [],
   "source": [
    "U = np.random.uniform(0,1,N)\n",
    "X = np.tan(np.pi*U) # Par inversion de la fonction de répartition\n",
    "M = # ...\n",
    "\n",
    "fig = plt.figure()\n",
    "plt.plot(N_range,M,label=\"empirical mean\")\n",
    "plt.plot(N_range,np.zeros(N),label=\"median\")\n",
    "plt.legend(loc=\"best\")\n",
    "plt.show()"
   ]
  },
  {
   "cell_type": "markdown",
   "id": "3fc3c370",
   "metadata": {},
   "source": [
    "### 4) Observation du TCL:\n",
    "\n",
    "On va considérer les variables\n",
    "\n",
    "$$Z_n = \\frac{\\sqrt n}{\\sigma}\\left(\\frac1n \\sum_{k=1}^n \\left[ X_k - \\mu\\right]\\right),$$\n",
    "où $\\mu = \\frac1\\lambda$ et $\\sigma^2 = \\frac1{\\lambda^1}$ sont respectivement l'espérance et la variance de nos variables exponentielles. Dans la cellule qui suit, $n$ est un nombre fixé, et on va considérer de nombreux échantillons de la variable $Z_n$ pour visualiser sa loi à l'aide d'un histogramme."
   ]
  },
  {
   "cell_type": "code",
   "execution_count": null,
   "id": "73fd6669",
   "metadata": {},
   "outputs": [],
   "source": [
    "lam = 1/2\n",
    "\n",
    "N = 10000 # N dans la moyenne empirique\n",
    "M = 20000 # nombre d'échantillons de Zn\n",
    "p = 0.5\n",
    "X = np.random.uniform(0,1,(N,M)) < p\n",
    "\n",
    "mu = p\n",
    "sigma =  # que vaut sigma?\n",
    "\n",
    "Z = # implémenter ici le calcul de Z (on peut utiliser la syntaxe X.mean(axis= ...))\n",
    "\n",
    "fig = plt.figure()\n",
    "plt.hist(Z, density=True,bins=100,alpha=0.5,color=\"b\")\n",
    "\n",
    "pts = np.linspace(-3,3,1000)\n",
    "gaussian = np.exp(-pts**2/2)/np.sqrt(2*np.pi)\n",
    "\n",
    "plt.plot(pts,gaussian,label=\"densité gaussienne\",color=\"r\")\n",
    "\n",
    "plt.legend(loc=\"best\")\n",
    "plt.show()\n"
   ]
  },
  {
   "cell_type": "markdown",
   "id": "db21fcb2",
   "metadata": {},
   "source": [
    "Diminuer le paramètre `N` pour observer empiriquement la convergence en loi."
   ]
  }
 ],
 "metadata": {
  "kernelspec": {
   "display_name": "Python 3 (ipykernel)",
   "language": "python",
   "name": "python3"
  },
  "language_info": {
   "codemirror_mode": {
    "name": "ipython",
    "version": 3
   },
   "file_extension": ".py",
   "mimetype": "text/x-python",
   "name": "python",
   "nbconvert_exporter": "python",
   "pygments_lexer": "ipython3",
   "version": "3.8.10"
  },
  "vscode": {
   "interpreter": {
    "hash": "916dbcbb3f70747c44a77c7bcd40155683ae19c65e1c03b4aa3499c5328201f1"
   }
  }
 },
 "nbformat": 4,
 "nbformat_minor": 5
}
